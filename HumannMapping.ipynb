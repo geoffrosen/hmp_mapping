{
 "cells": [
  {
   "cell_type": "code",
   "execution_count": 1,
   "metadata": {
    "collapsed": true
   },
   "outputs": [],
   "source": [
    "import csv\n",
    "with open('hmp_humann/humann-mappings_unique.tsv', 'rU') as humann_map_f:\n",
    "    r = csv.reader(humann_map_f, delimiter='\\t')\n",
    "    humann_map = [row for row in r]\n",
    "with open('hmp_mappings/unified_map.tsv', 'rU') as map_16s_f:\n",
    "    r = csv.reader(map_16s_f, delimiter='\\t')\n",
    "    map_16s = [row for row in r]"
   ]
  },
  {
   "cell_type": "code",
   "execution_count": 2,
   "metadata": {
    "collapsed": false
   },
   "outputs": [
    {
     "name": "stdout",
     "output_type": "stream",
     "text": [
      "['RANDSID', 'GENDER', 'STSite', 'Parent_Specimen', 'SRS']\n"
     ]
    }
   ],
   "source": [
    "print humann_map[0]"
   ]
  },
  {
   "cell_type": "code",
   "execution_count": 3,
   "metadata": {
    "collapsed": false
   },
   "outputs": [
    {
     "name": "stdout",
     "output_type": "stream",
     "text": [
      "['SampleID', 'RSID', 'PSN', 'SN', 'NAP', 'ExperimentAccession', 'RunID', 'SRS_SampleID', 'Region', 'BarcodeSequence', 'LinkerPrimerSequence', 'Sex', 'HMPBodySubsiteHMPBodySite', 'VisitNo']\n"
     ]
    }
   ],
   "source": [
    "print map_16s[0]"
   ]
  },
  {
   "cell_type": "markdown",
   "metadata": {},
   "source": [
    "- Three options\n",
    " - humann_map[RANDSID,STSite] == map_16s[RSID,HMPBodySubsiteHMPBodySite]\n",
    " - humann_map[Parent_Specimen] == map_16s[PSN]\n",
    " - humann_map[SRS] == map_16s[NAP]"
   ]
  },
  {
   "cell_type": "code",
   "execution_count": 4,
   "metadata": {
    "collapsed": true
   },
   "outputs": [],
   "source": [
    "map_16s_matched = []\n",
    "map_16s_matched.append(map_16s[0])"
   ]
  },
  {
   "cell_type": "code",
   "execution_count": 5,
   "metadata": {
    "collapsed": true
   },
   "outputs": [],
   "source": [
    "RANDSID = humann_map[0].index('RANDSID')\n",
    "STSite = humann_map[0].index('STSite')\n",
    "Parent_Specimen = humann_map[0].index('Parent_Specimen')\n",
    "SRS = humann_map[0].index('SRS')"
   ]
  },
  {
   "cell_type": "code",
   "execution_count": 6,
   "metadata": {
    "collapsed": true
   },
   "outputs": [],
   "source": [
    "RSID = map_16s[0].index('RSID')\n",
    "HMPBodySubsiteHMPBodySite = map_16s[0].index('HMPBodySubsiteHMPBodySite')\n",
    "PSN = map_16s[0].index('PSN')\n",
    "NAP = map_16s[0].index('NAP')"
   ]
  },
  {
   "cell_type": "code",
   "execution_count": 7,
   "metadata": {
    "collapsed": true
   },
   "outputs": [],
   "source": [
    "for row in humann_map[1:]:\n",
    "    this_RANDSID = row[RANDSID]\n",
    "    this_STSite = row[STSite]\n",
    "    this_set = []\n",
    "    for map_row in map_16s:\n",
    "        if map_row[RSID] == this_RANDSID and map_row[HMPBodySubsiteHMPBodySite] == this_STSite:\n",
    "            map_16s_matched.append(map_row)"
   ]
  },
  {
   "cell_type": "code",
   "execution_count": 8,
   "metadata": {
    "collapsed": false
   },
   "outputs": [
    {
     "data": {
      "text/plain": [
       "2120"
      ]
     },
     "execution_count": 8,
     "metadata": {},
     "output_type": "execute_result"
    }
   ],
   "source": [
    "len(map_16s_matched)"
   ]
  },
  {
   "cell_type": "code",
   "execution_count": 9,
   "metadata": {
    "collapsed": false
   },
   "outputs": [],
   "source": [
    "# there are no doubt some duplicates in there\n",
    "# will deal with that in terminal\n",
    "with open('hmp_mappings/humann_full_map_raw.tsv','wb') as f:\n",
    "    w = csv.writer(f,delimiter='\\t')\n",
    "    for row in map_16s_matched:\n",
    "        w.writerow(row)"
   ]
  },
  {
   "cell_type": "code",
   "execution_count": 10,
   "metadata": {
    "collapsed": true
   },
   "outputs": [],
   "source": [
    "# oops: forgot the other options\n",
    "map_16s_matched = [map_16s[0]]"
   ]
  },
  {
   "cell_type": "code",
   "execution_count": 11,
   "metadata": {
    "collapsed": false
   },
   "outputs": [],
   "source": [
    "for row in humann_map[1:]:\n",
    "    this_RANDSID = row[RANDSID]\n",
    "    this_STSite = row[STSite]\n",
    "    this_Parent_Specimen = row[Parent_Specimen]\n",
    "    this_SRS = row[SRS]\n",
    "    this_set = []\n",
    "    for map_row in map_16s:\n",
    "        if map_row[RSID] == this_RANDSID and map_row[HMPBodySubsiteHMPBodySite] == this_STSite:\n",
    "            map_16s_matched.append(map_row)\n",
    "        elif row[PSN] == this_Parent_Specimen:\n",
    "            map_16s_matched.append(map_row)\n",
    "        elif row[NAP] == this_SRS:\n",
    "            map_16s_matched.append(map_row)"
   ]
  },
  {
   "cell_type": "code",
   "execution_count": 12,
   "metadata": {
    "collapsed": false
   },
   "outputs": [
    {
     "data": {
      "text/plain": [
       "7663993"
      ]
     },
     "execution_count": 12,
     "metadata": {},
     "output_type": "execute_result"
    }
   ],
   "source": [
    "len(map_16s_matched)"
   ]
  },
  {
   "cell_type": "code",
   "execution_count": 13,
   "metadata": {
    "collapsed": false
   },
   "outputs": [
    {
     "data": {
      "text/plain": [
       "11172"
      ]
     },
     "execution_count": 13,
     "metadata": {},
     "output_type": "execute_result"
    }
   ],
   "source": [
    "len(map_16s)"
   ]
  },
  {
   "cell_type": "code",
   "execution_count": 14,
   "metadata": {
    "collapsed": true
   },
   "outputs": [],
   "source": [
    "# Looks like there are likely duplicates\n",
    "# Will deal with them through bash\n",
    "with open('hmp_mappings/humann_full_map_raw.tsv','wb') as f:\n",
    "    w = csv.writer(f,delimiter='\\t')\n",
    "    for row in map_16s_matched:\n",
    "        w.writerow(row)"
   ]
  },
  {
   "cell_type": "code",
   "execution_count": 15,
   "metadata": {
    "collapsed": false
   },
   "outputs": [],
   "source": [
    "# double oops forgot this\n",
    "for i in range(len(map_16s_matched)):\n",
    "    row = map_16s_matched[i]\n",
    "    this_end = row[0].find('.V')\n",
    "    if this_end != -1:\n",
    "        this_start = row[0][0:this_end]\n",
    "    else:\n",
    "        this_start = row[0]\n",
    "    row = [this_start] + row\n",
    "    map_16s_matched[i] = row"
   ]
  },
  {
   "cell_type": "code",
   "execution_count": 16,
   "metadata": {
    "collapsed": true
   },
   "outputs": [],
   "source": [
    "with open('hmp_mappings/humann_full_map_raw.tsv','wb') as f:\n",
    "    w = csv.writer(f,delimiter='\\t')\n",
    "    for row in map_16s_matched:\n",
    "        w.writerow(row)"
   ]
  },
  {
   "cell_type": "code",
   "execution_count": null,
   "metadata": {
    "collapsed": true
   },
   "outputs": [],
   "source": []
  }
 ],
 "metadata": {
  "kernelspec": {
   "display_name": "Python 2",
   "language": "python",
   "name": "python2"
  },
  "language_info": {
   "codemirror_mode": {
    "name": "ipython",
    "version": 2
   },
   "file_extension": ".py",
   "mimetype": "text/x-python",
   "name": "python",
   "nbconvert_exporter": "python",
   "pygments_lexer": "ipython2",
   "version": "2.7.9"
  }
 },
 "nbformat": 4,
 "nbformat_minor": 0
}
