{
 "cells": [
  {
   "cell_type": "code",
   "execution_count": 1,
   "metadata": {
    "collapsed": true
   },
   "outputs": [],
   "source": [
    "import csv\n",
    "with open('hmp_mappings/unified_map.tsv', 'rU') as map_16s_f:\n",
    "    r = csv.reader(map_16s_f, delimiter='\\t')\n",
    "    map_16s = [row for row in r]"
   ]
  },
  {
   "cell_type": "code",
   "execution_count": 3,
   "metadata": {
    "collapsed": false
   },
   "outputs": [],
   "source": [
    "with open('hmp_metaphlan/HMP.ab.txt','rU') as metaphlan_f:\n",
    "    r = csv.reader(metaphlan_f, delimiter='\\t')\n",
    "    metaphlan_map = r.next()"
   ]
  },
  {
   "cell_type": "code",
   "execution_count": 4,
   "metadata": {
    "collapsed": false
   },
   "outputs": [
    {
     "data": {
      "text/plain": [
       "['SampleID',\n",
       " 'RSID',\n",
       " 'PSN',\n",
       " 'SN',\n",
       " 'NAP',\n",
       " 'ExperimentAccession',\n",
       " 'RunID',\n",
       " 'SRS_SampleID',\n",
       " 'Region',\n",
       " 'BarcodeSequence',\n",
       " 'LinkerPrimerSequence',\n",
       " 'Sex',\n",
       " 'HMPBodySubsiteHMPBodySite',\n",
       " 'VisitNo']"
      ]
     },
     "execution_count": 4,
     "metadata": {},
     "output_type": "execute_result"
    }
   ],
   "source": [
    "map_16s[0]"
   ]
  },
  {
   "cell_type": "code",
   "execution_count": 5,
   "metadata": {
    "collapsed": false
   },
   "outputs": [
    {
     "data": {
      "text/plain": [
       "['SRS012191.SRX020675.V13',\n",
       " '158013734',\n",
       " '700013549',\n",
       " '',\n",
       " '700013596',\n",
       " 'SRX020675',\n",
       " 'SRR047747',\n",
       " 'SRS012191',\n",
       " 'V13',\n",
       " 'TCAGCGCAAC',\n",
       " 'ATTACCGCGGCTGCTGG',\n",
       " 'female',\n",
       " 'Stool',\n",
       " 'Gastrointestinal_tract',\n",
       " '1']"
      ]
     },
     "execution_count": 5,
     "metadata": {},
     "output_type": "execute_result"
    }
   ],
   "source": [
    "map_16s[1]"
   ]
  },
  {
   "cell_type": "code",
   "execution_count": 6,
   "metadata": {
    "collapsed": false
   },
   "outputs": [
    {
     "data": {
      "text/plain": [
       "['sid', 'SRS043001', 'SRS015989', 'SRS021477', 'SRS022621']"
      ]
     },
     "execution_count": 6,
     "metadata": {},
     "output_type": "execute_result"
    }
   ],
   "source": [
    "metaphlan_map[0:5]"
   ]
  },
  {
   "cell_type": "code",
   "execution_count": 7,
   "metadata": {
    "collapsed": true
   },
   "outputs": [],
   "source": [
    "map_16s_matched = [map_16s[0]]"
   ]
  },
  {
   "cell_type": "code",
   "execution_count": 8,
   "metadata": {
    "collapsed": true
   },
   "outputs": [],
   "source": [
    "SRS_SampleID = map_16s[0].index('SRS_SampleID')"
   ]
  },
  {
   "cell_type": "code",
   "execution_count": 9,
   "metadata": {
    "collapsed": true
   },
   "outputs": [],
   "source": [
    "for row in map_16s[1:]:\n",
    "    if row[SRS_SampleID] in metaphlan_map[1:]:\n",
    "        map_16s_matched.append(row)"
   ]
  },
  {
   "cell_type": "code",
   "execution_count": 10,
   "metadata": {
    "collapsed": false
   },
   "outputs": [
    {
     "data": {
      "text/plain": [
       "442"
      ]
     },
     "execution_count": 10,
     "metadata": {},
     "output_type": "execute_result"
    }
   ],
   "source": [
    "len(map_16s_matched)"
   ]
  },
  {
   "cell_type": "code",
   "execution_count": 11,
   "metadata": {
    "collapsed": false
   },
   "outputs": [
    {
     "data": {
      "text/plain": [
       "691"
      ]
     },
     "execution_count": 11,
     "metadata": {},
     "output_type": "execute_result"
    }
   ],
   "source": [
    "len(metaphlan_map)"
   ]
  },
  {
   "cell_type": "code",
   "execution_count": 12,
   "metadata": {
    "collapsed": true
   },
   "outputs": [],
   "source": [
    "# so there are some that aren't matched\n",
    "# let's see if we can recover them from the humann files\n",
    "with open('hmp_humann/04b-mpm-cop-nul-nve-nul-nve.txt','rU') as f:\n",
    "    r = csv.reader(f, delimiter='\\t')\n",
    "    humann_f = [row for row in r]"
   ]
  },
  {
   "cell_type": "code",
   "execution_count": 15,
   "metadata": {
    "collapsed": false
   },
   "outputs": [
    {
     "data": {
      "text/plain": [
       "['ID',\n",
       " 'NAME',\n",
       " 'SRS011061_vs_KEGG_v54-mpm-cop-nul-nve-nul-nve',\n",
       " 'SRS011090_vs_KEGG_v54-mpm-cop-nul-nve-nul-nve',\n",
       " 'SRS011098_vs_KEGG_v54-mpm-cop-nul-nve-nul-nve']"
      ]
     },
     "execution_count": 15,
     "metadata": {},
     "output_type": "execute_result"
    }
   ],
   "source": [
    "humann_f[0][0:5]"
   ]
  },
  {
   "cell_type": "code",
   "execution_count": 17,
   "metadata": {
    "collapsed": false
   },
   "outputs": [],
   "source": [
    "for i in range(len(humann_f[0])):\n",
    "    humann_f[0][i] = humann_f[0][i].replace('_vs_KEGG_v54-mpm-cop-nul-nve-nul-nve','')"
   ]
  },
  {
   "cell_type": "code",
   "execution_count": 18,
   "metadata": {
    "collapsed": false
   },
   "outputs": [
    {
     "data": {
      "text/plain": [
       "['ID', 'NAME', 'SRS011061', 'SRS011090', 'SRS011098']"
      ]
     },
     "execution_count": 18,
     "metadata": {},
     "output_type": "execute_result"
    }
   ],
   "source": [
    "humann_f[0][0:5]"
   ]
  },
  {
   "cell_type": "code",
   "execution_count": 20,
   "metadata": {
    "collapsed": false
   },
   "outputs": [
    {
     "name": "stdout",
     "output_type": "stream",
     "text": [
      "674\n"
     ]
    }
   ],
   "source": [
    "i = 0\n",
    "for item in humann_f[0]:\n",
    "    if item in metaphlan_map:\n",
    "        i += 1\n",
    "print i"
   ]
  },
  {
   "cell_type": "code",
   "execution_count": 21,
   "metadata": {
    "collapsed": true
   },
   "outputs": [],
   "source": [
    "# okay, that looks good\n",
    "RSID = map_16s[0].index('RSID')\n",
    "HMPBodySubsiteHMPBodySite = map_16s[0].index('HMPBodySubsiteHMPBodySite')\n",
    "PSN = map_16s[0].index('PSN')\n",
    "NAP = map_16s[0].index('NAP')\n",
    "for item in metaphlan_map:\n",
    "    try:\n",
    "        ind_humann = humann_f[0].index(item)\n",
    "        this_RANDSID = humann_f[1][ind_humann]\n",
    "        this_STSite = humann_f[5][ind_humann]\n",
    "        this_Parent_Specimen = humann_f[6][ind_humann]\n",
    "        this_SRS = humann_f[9][ind_humann]\n",
    "        for map_row in map_16s[1:]:\n",
    "            if map_row[RSID] == this_RANDSID and map_row[HMPBodySubsiteHMPBodySite] == this_STSite:\n",
    "                map_16s_matched.append(row)\n",
    "            elif row[PSN] == this_Parent_Specimen:\n",
    "                map_16s_matched.append(row)\n",
    "            elif row[NAP] == this_SRS:\n",
    "                map_16s_matched.append(row)\n",
    "    except:\n",
    "        continue"
   ]
  },
  {
   "cell_type": "code",
   "execution_count": 22,
   "metadata": {
    "collapsed": false
   },
   "outputs": [
    {
     "data": {
      "text/plain": [
       "2537"
      ]
     },
     "execution_count": 22,
     "metadata": {},
     "output_type": "execute_result"
    }
   ],
   "source": [
    "len(map_16s_matched)"
   ]
  },
  {
   "cell_type": "code",
   "execution_count": 25,
   "metadata": {
    "collapsed": false
   },
   "outputs": [
    {
     "data": {
      "text/plain": [
       "['SRS011271.SRX020659.V13',\n",
       " '158802708',\n",
       " '700015245',\n",
       " '',\n",
       " '700015250',\n",
       " 'SRX020659',\n",
       " 'SRR045051',\n",
       " 'SRS011271',\n",
       " 'V13',\n",
       " 'TCAGCACGC',\n",
       " 'ATTACCGCGGCTGCTGG',\n",
       " 'male',\n",
       " 'Stool',\n",
       " 'Gastrointestinal_tract',\n",
       " '1']"
      ]
     },
     "execution_count": 25,
     "metadata": {},
     "output_type": "execute_result"
    }
   ],
   "source": [
    "map_16s_matched[1]"
   ]
  },
  {
   "cell_type": "code",
   "execution_count": 26,
   "metadata": {
    "collapsed": true
   },
   "outputs": [],
   "source": [
    "for i in range(len(map_16s_matched)):\n",
    "    row = map_16s_matched[i]\n",
    "    this_end = row[0].find('.V')\n",
    "    if this_end != -1:\n",
    "        this_start = row[0][0:this_end]\n",
    "    else:\n",
    "        this_start = row[0]\n",
    "    row = [this_start] + row\n",
    "    map_16s_matched[i] = row"
   ]
  },
  {
   "cell_type": "code",
   "execution_count": 27,
   "metadata": {
    "collapsed": false
   },
   "outputs": [
    {
     "data": {
      "text/plain": [
       "['SRS011271.SRX020659',\n",
       " 'SRS011271.SRX020659.V13',\n",
       " '158802708',\n",
       " '700015245',\n",
       " '',\n",
       " '700015250',\n",
       " 'SRX020659',\n",
       " 'SRR045051',\n",
       " 'SRS011271',\n",
       " 'V13',\n",
       " 'TCAGCACGC',\n",
       " 'ATTACCGCGGCTGCTGG',\n",
       " 'male',\n",
       " 'Stool',\n",
       " 'Gastrointestinal_tract',\n",
       " '1']"
      ]
     },
     "execution_count": 27,
     "metadata": {},
     "output_type": "execute_result"
    }
   ],
   "source": [
    "map_16s_matched[1]"
   ]
  },
  {
   "cell_type": "code",
   "execution_count": 28,
   "metadata": {
    "collapsed": true
   },
   "outputs": [],
   "source": [
    "map_16s_matched[0][0] = 'Shortened_SampleID'"
   ]
  },
  {
   "cell_type": "code",
   "execution_count": 29,
   "metadata": {
    "collapsed": true
   },
   "outputs": [],
   "source": [
    "with open('MetaphlanMapping.tsv','wb') as f:\n",
    "    w = csv.writer(f,delimiter='\\t')\n",
    "    for row in map_16s_matched:\n",
    "        w.writerow(row)"
   ]
  },
  {
   "cell_type": "code",
   "execution_count": null,
   "metadata": {
    "collapsed": true
   },
   "outputs": [],
   "source": []
  }
 ],
 "metadata": {
  "kernelspec": {
   "display_name": "Python 2",
   "language": "python",
   "name": "python2"
  },
  "language_info": {
   "codemirror_mode": {
    "name": "ipython",
    "version": 2
   },
   "file_extension": ".py",
   "mimetype": "text/x-python",
   "name": "python",
   "nbconvert_exporter": "python",
   "pygments_lexer": "ipython2",
   "version": "2.7.9"
  }
 },
 "nbformat": 4,
 "nbformat_minor": 0
}
